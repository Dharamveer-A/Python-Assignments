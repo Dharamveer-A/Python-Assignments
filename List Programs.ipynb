{
 "cells": [
  {
   "cell_type": "markdown",
   "id": "f29e5d65-955f-482a-9c6d-737d0f7537f7",
   "metadata": {},
   "source": [
    "#### Write a Python program to create a list of numbers from 1-50 that are either divisible by 3 or divisible by 6 "
   ]
  },
  {
   "cell_type": "code",
   "execution_count": 3,
   "id": "42986d68-e826-434d-8870-2c58405bf202",
   "metadata": {},
   "outputs": [
    {
     "name": "stdout",
     "output_type": "stream",
     "text": [
      "Numbers divisible by 3 or 6 from 1 to 50:\n",
      "[3, 6, 9, 12, 15, 18, 21, 24, 27, 30, 33, 36, 39, 42, 45, 48]\n"
     ]
    }
   ],
   "source": [
    "lst=[i for i in range(1,51) if i%3==0 or i%6==0]\n",
    "print(\"Numbers divisible by 3 or 6 from 1 to 50:\")\n",
    "print(lst)"
   ]
  },
  {
   "cell_type": "markdown",
   "id": "a33a3263",
   "metadata": {},
   "source": [
    "#### Write a Python program that reads “n” number of integers from the user and generates a separate list containing even and odd numbers. (Use List Comprehension)"
   ]
  },
  {
   "cell_type": "code",
   "execution_count": 5,
   "id": "b6bcaec3",
   "metadata": {},
   "outputs": [
    {
     "name": "stdin",
     "output_type": "stream",
     "text": [
      "Enter number of elements in the list: 5\n",
      " 4\n",
      " 6\n",
      " 8\n",
      " 9\n",
      " 3\n"
     ]
    },
    {
     "name": "stdout",
     "output_type": "stream",
     "text": [
      "The given list is  [4, 6, 8, 9, 3]\n",
      "Odd numbers  [9, 3]\n",
      "Even numbers  [4, 6, 8]\n"
     ]
    }
   ],
   "source": [
    "n=int(input(\"Enter number of elements in the list:\"))\n",
    "lst=[int(input()) for _ in range(n)]\n",
    "oddlst=[i for i in lst if i%2!=0]\n",
    "evenlst=[i for i in lst if i%2==0]\n",
    "print(\"The given list is \",lst)\n",
    "print(\"Odd numbers \",oddlst)\n",
    "print(\"Even numbers \",evenlst)"
   ]
  },
  {
   "cell_type": "markdown",
   "id": "7d43a502",
   "metadata": {},
   "source": [
    "#### The python program should read the list of 5 numbers, and generate the new list which contains the factorial of each number in the given list. \n",
    "\n",
    "Sample Input\n",
    "\n",
    "[2, 4, 8, 7, 5]\n",
    "\n",
    "Sample Output\n",
    "\n",
    "[2, 24, 40320, 5040, 120]\n"
   ]
  },
  {
   "cell_type": "code",
   "execution_count": 11,
   "id": "6e82db08",
   "metadata": {
    "scrolled": true
   },
   "outputs": [
    {
     "name": "stdin",
     "output_type": "stream",
     "text": [
      "Enter number of elements in the list: 5\n",
      " 1\n",
      " 2\n",
      " 3\n",
      " 4\n",
      " 5\n"
     ]
    },
    {
     "name": "stdout",
     "output_type": "stream",
     "text": [
      "The given list is  [1, 2, 3, 4, 5]\n",
      "Factorial of the list is  [1, 2, 6, 24, 120]\n"
     ]
    }
   ],
   "source": [
    "import math \n",
    "n=int(input(\"Enter number of elements in the list:\"))\n",
    "lst=[int(input()) for _ in range(n)]\n",
    "fact=[math.factorial(i) for i in lst]\n",
    "print(\"The given list is \",lst)\n",
    "print(\"Factorial of the list is \",fact)"
   ]
  },
  {
   "cell_type": "markdown",
   "id": "4bead79b-687b-4aee-a8bf-6f0ff609e89e",
   "metadata": {},
   "source": [
    "#### Write a python program that reads integers from the user and stores them in a list. Your program should continue reading values until the user enters 0. Then it should display all of the values entered by the user (except for the 0) in ascending order (The list itself to be sorted).\n"
   ]
  },
  {
   "cell_type": "code",
   "execution_count": 20,
   "id": "720ebc62",
   "metadata": {},
   "outputs": [
    {
     "name": "stdout",
     "output_type": "stream",
     "text": [
      "Enter the values of the list :\n"
     ]
    },
    {
     "name": "stdin",
     "output_type": "stream",
     "text": [
      " 9\n",
      " 4\n",
      " 6\n",
      " 4\n",
      " 8\n",
      " 2\n",
      " 14\n",
      " 0\n"
     ]
    },
    {
     "name": "stdout",
     "output_type": "stream",
     "text": [
      "The sorted list is  [2, 4, 4, 6, 8, 9, 14]\n"
     ]
    }
   ],
   "source": [
    "print(\"Enter the values of the list :\")\n",
    "lst=[]\n",
    "while True:\n",
    "  i=int(input())\n",
    "  if i==0:\n",
    "    break\n",
    "  lst.append(i)\n",
    "lst.sort()\n",
    "print(\"The sorted list is \",lst)\n"
   ]
  },
  {
   "cell_type": "markdown",
   "id": "2234d270",
   "metadata": {},
   "source": [
    "#### Write a python program that reads the string, encode each character in a string using ascii values and store the ascii value in the list. The program reads the strings from the user, and stores the individual characters ascii value to the list\n",
    "\n",
    "Sample Input\n",
    "\n",
    "Enter the string : Science\n",
    "\n",
    "Sample Output\n",
    "\n",
    "Encode the List - [83, 99, 105, 101, 110, 99, 101]\n",
    "\n",
    "Note: Use ord() function\n"
   ]
  },
  {
   "cell_type": "code",
   "execution_count": 22,
   "id": "6d329995",
   "metadata": {},
   "outputs": [
    {
     "name": "stdin",
     "output_type": "stream",
     "text": [
      "Enter the string : science\n"
     ]
    },
    {
     "name": "stdout",
     "output_type": "stream",
     "text": [
      "Encode the List - [115, 99, 105, 101, 110, 99, 101]\n"
     ]
    }
   ],
   "source": [
    "s=input(\"Enter the string :\")\n",
    "lst=[]\n",
    "for i in s:\n",
    "  lst.append(ord(i))\n",
    "print(\"Encode the List -\",lst)"
   ]
  },
  {
   "cell_type": "markdown",
   "id": "81d65617",
   "metadata": {},
   "source": [
    "#### Write a python program which reads “n” words from the user, store it in the list and display the length of each word and display the longest word in the list."
   ]
  },
  {
   "cell_type": "code",
   "execution_count": 29,
   "id": "6370d7a6",
   "metadata": {},
   "outputs": [
    {
     "name": "stdin",
     "output_type": "stream",
     "text": [
      "Enter the number of words: 5\n",
      "Enter the word: lion\n",
      "Enter the word: elephant\n",
      "Enter the word: tiger\n",
      "Enter the word: zebra\n",
      "Enter the word: monkey\n"
     ]
    },
    {
     "name": "stdout",
     "output_type": "stream",
     "text": [
      "Length of Each word in the list : [4, 8, 5, 5, 6]\n",
      "The longest Words in the list is : elephant\n"
     ]
    }
   ],
   "source": [
    "n=int(input(\"Enter the number of words:\"))\n",
    "wrdlst=[]\n",
    "lenlst=[]\n",
    "for _ in range(n):\n",
    "  s=input(\"Enter the word:\")\n",
    "  wrdlst.append(s)\n",
    "  lenlst.append(len(s))\n",
    "imax=lenlst.index(max(lenlst))\n",
    "print(\"Length of Each word in the list :\",lenlst)\n",
    "print(\"The longest Words in the list is :\",wrdlst[imax])"
   ]
  },
  {
   "cell_type": "markdown",
   "id": "43116534",
   "metadata": {},
   "source": [
    "#### A program should read “n” positive integers from the user and append it to the list, and if the list contains prime numbers return “True” and number of prime numbers, else “False”. (Use function to find the number is prime or not)"
   ]
  },
  {
   "cell_type": "code",
   "execution_count": 34,
   "id": "c23107fb",
   "metadata": {},
   "outputs": [
    {
     "name": "stdin",
     "output_type": "stream",
     "text": [
      "Enter number of integers in the list: 5\n"
     ]
    },
    {
     "name": "stdout",
     "output_type": "stream",
     "text": [
      "Enter the integers\n"
     ]
    },
    {
     "name": "stdin",
     "output_type": "stream",
     "text": [
      " 11\n",
      " 12\n",
      " 13\n",
      " 17\n",
      " 18\n"
     ]
    },
    {
     "name": "stdout",
     "output_type": "stream",
     "text": [
      "TRUE\n",
      "Number of prime numbers in the given list is  3\n"
     ]
    }
   ],
   "source": [
    "def isprime(n):\n",
    "    for i in range(2,n//2):\n",
    "        if n%i==0:\n",
    "            return False\n",
    "    return True\n",
    "n=int(input(\"Enter number of integers in the list:\"))\n",
    "lst=[]\n",
    "print(\"Enter the integers\")\n",
    "for _ in range(n):\n",
    "    num=int(input())\n",
    "    lst.append(num)\n",
    "c=0\n",
    "for i in lst:\n",
    "    if isprime(i):\n",
    "        c+=1\n",
    "if c>0:\n",
    "    print(\"TRUE\")\n",
    "else:\n",
    "    print(\"FALSE\")\n",
    "print(\"Number of prime numbers in the given list is \",c)"
   ]
  },
  {
   "cell_type": "markdown",
   "id": "b05da938",
   "metadata": {},
   "source": [
    "#### Write a python program that removes duplicates from the given list and generate the new list without duplicates."
   ]
  },
  {
   "cell_type": "code",
   "execution_count": 41,
   "id": "d14311a2-c779-45c5-bd28-147d8b93265d",
   "metadata": {},
   "outputs": [
    {
     "name": "stdin",
     "output_type": "stream",
     "text": [
      "Enter number of elements in the list: 5\n",
      " 1\n",
      " 2\n",
      " 3\n",
      " 3\n",
      " 2\n"
     ]
    },
    {
     "name": "stdout",
     "output_type": "stream",
     "text": [
      "List before removal of duplicates [1, 2, 3, 3, 2]\n",
      "List after removal of duplicates [1, 2, 3]\n"
     ]
    }
   ],
   "source": [
    "n=int(input(\"Enter number of elements in the list:\"))\n",
    "lst=[int(input()) for _ in range(n)]\n",
    "print(\"List before removal of duplicates\",lst)\n",
    "unilst=[]\n",
    "for i in lst:\n",
    "    if i not in unilst:\n",
    "        unilst.append(i)\n",
    "print(\"List after removal of duplicates\",unilst)"
   ]
  },
  {
   "cell_type": "code",
   "execution_count": 36,
   "id": "bf9a0d21",
   "metadata": {},
   "outputs": [
    {
     "name": "stdin",
     "output_type": "stream",
     "text": [
      "Enter number of elements in the list: 5\n",
      " 1\n",
      " 2\n",
      " 3\n",
      " 3\n",
      " 4\n"
     ]
    },
    {
     "name": "stdout",
     "output_type": "stream",
     "text": [
      "List before removal of duplicates [1, 2, 3, 3, 4]\n",
      "List after removal of duplicates {1, 2, 3, 4}\n"
     ]
    }
   ],
   "source": [
    "n=int(input(\"Enter number of elements in the list:\"))\n",
    "lst=[int(input()) for _ in range(n)]\n",
    "print(\"List before removal of duplicates\",lst)\n",
    "st=set(lst)\n",
    "print(\"List after removal of duplicates\",st)"
   ]
  },
  {
   "cell_type": "markdown",
   "id": "c1cfbeab",
   "metadata": {},
   "source": [
    "#### Write a python program to remove even numbers from the given list"
   ]
  },
  {
   "cell_type": "code",
   "execution_count": 35,
   "id": "48028949",
   "metadata": {},
   "outputs": [
    {
     "name": "stdin",
     "output_type": "stream",
     "text": [
      "Enter number of elements in the list: 5\n",
      " 1\n",
      " 2\n",
      " 3\n",
      " 4\n",
      " 5\n"
     ]
    },
    {
     "name": "stdout",
     "output_type": "stream",
     "text": [
      "List before removal of even numbers [1, 2, 3, 4, 5]\n",
      "List after removal of even numbers [1, 3, 5]\n"
     ]
    }
   ],
   "source": [
    "n=int(input(\"Enter number of elements in the list:\"))\n",
    "lst=[int(input()) for _ in range(n)]\n",
    "print(\"List before removal of even numbers\",lst)\n",
    "for i in lst:\n",
    "    if i%2==0:\n",
    "        lst.remove(i)\n",
    "print(\"List after removal of even numbers\",lst)"
   ]
  },
  {
   "cell_type": "markdown",
   "id": "6c818a08",
   "metadata": {},
   "source": [
    "#### Consider the following list which contains the month with year  \n",
    "\n",
    "years = [\"January 2023\", “February 2024”, March 2023”, \"May 2025\", \"April 2023\", \"August 2024\", \"September 2025\", \"December 2023\"]\n",
    "\n",
    "If you have noticed, for some months, the year was wrongly mentioned instead of 2023. Write a Python program to change the month to 2023.\n"
   ]
  },
  {
   "cell_type": "code",
   "execution_count": 47,
   "id": "ea01a976-d7ba-4007-bf06-56c2cdf0499e",
   "metadata": {},
   "outputs": [
    {
     "name": "stdout",
     "output_type": "stream",
     "text": [
      "The list after correcting : ['January 2023', 'February 2023', 'March 2023', 'May 2023', 'April 2023', 'August 2023', 'September 2023', 'December 2023']\n"
     ]
    }
   ],
   "source": [
    "years = [\"January 2023\", \"February 2024\", \"March 2023\", \"May 2025\", \"April 2023\", \"August 2024\", \"September 2025\", \"December 2023\"]\n",
    "c=0\n",
    "for i in years:\n",
    "  if i[len(i)-4:]!='2023':\n",
    "    ri=i[:len(i)-4]\n",
    "    i=ri+'2023'\n",
    "    years[c]=i\n",
    "  c+=1\n",
    "print(\"The list after correcting :\",years)"
   ]
  },
  {
   "cell_type": "code",
   "execution_count": 46,
   "id": "45b5b447",
   "metadata": {},
   "outputs": [
    {
     "name": "stdout",
     "output_type": "stream",
     "text": [
      "The list after correcting : ['January 2023', 'February 2023', 'March 2023', 'May 2023', 'April 2023', 'August 2023', 'September 2023', 'December 2023']\n"
     ]
    }
   ],
   "source": [
    "years = [\"January 2023\", \"February 2024\", \"March 2023\", \"May 2025\", \"April 2023\", \"August 2024\", \"September 2025\", \"December 2023\"]\n",
    "newlst=[]\n",
    "for i in years:\n",
    "    newlst.append(i[:len(i)-4]+'2023')\n",
    "print(\"The list after correcting :\",newlst)"
   ]
  }
 ],
 "metadata": {
  "kernelspec": {
   "display_name": "Python 3 (ipykernel)",
   "language": "python",
   "name": "python3"
  },
  "language_info": {
   "codemirror_mode": {
    "name": "ipython",
    "version": 3
   },
   "file_extension": ".py",
   "mimetype": "text/x-python",
   "name": "python",
   "nbconvert_exporter": "python",
   "pygments_lexer": "ipython3",
   "version": "3.13.2"
  }
 },
 "nbformat": 4,
 "nbformat_minor": 5
}
