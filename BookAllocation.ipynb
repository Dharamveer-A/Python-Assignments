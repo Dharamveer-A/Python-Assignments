{
 "cells": [
  {
   "cell_type": "code",
   "execution_count": 25,
   "id": "ad71ccfe",
   "metadata": {},
   "outputs": [],
   "source": [
    "def PossibleStudents(books,MaxPages):\n",
    "\n",
    "  pages=0\n",
    "  students=1\n",
    "\n",
    "  for i in range(len(books)):\n",
    "    if pages+books[i] <= MaxPages:\n",
    "      pages+=books[i]\n",
    "    else:\n",
    "      pages=books[i]\n",
    "      students+=1\n",
    "      \n",
    "  return students\n"
   ]
  },
  {
   "cell_type": "code",
   "execution_count": null,
   "id": "45e5300b",
   "metadata": {},
   "outputs": [],
   "source": [
    "def BookAllocation(books,k):\n",
    "\n",
    "  if len(books)<k: return -1\n",
    "  elif k==1: return sum(books)\n",
    "  elif k==len(books): return max(books)\n",
    "\n",
    "  st=max(books)\n",
    "  end=sum(books)\n",
    "  ans=end\n",
    "\n",
    "  while st<=end:\n",
    "    \n",
    "    mid=st+(end-st)//2\n",
    "    students=PossibleStudents(books,mid)\n",
    "\n",
    "    if students <= k:\n",
    "      ans=min((ans,mid))\n",
    "      end=mid-1\n",
    "\n",
    "    else :\n",
    "      st=mid+1\n",
    "  \n",
    "  return ans\n"
   ]
  },
  {
   "cell_type": "code",
   "execution_count": 49,
   "id": "e49aeffc",
   "metadata": {},
   "outputs": [
    {
     "name": "stdout",
     "output_type": "stream",
     "text": [
      "Ans pre = 172\n",
      "Ans update = 110\n",
      "Ans pre = 110\n",
      "Ans update = 79\n",
      "Ans pre = 79\n",
      "Ans update = 71\n",
      "71\n"
     ]
    }
   ],
   "source": [
    "print(BookAllocation([25, 46, 28, 49, 24],4))"
   ]
  }
 ],
 "metadata": {
  "kernelspec": {
   "display_name": "Python 3",
   "language": "python",
   "name": "python3"
  },
  "language_info": {
   "codemirror_mode": {
    "name": "ipython",
    "version": 3
   },
   "file_extension": ".py",
   "mimetype": "text/x-python",
   "name": "python",
   "nbconvert_exporter": "python",
   "pygments_lexer": "ipython3",
   "version": "3.13.2"
  }
 },
 "nbformat": 4,
 "nbformat_minor": 5
}
