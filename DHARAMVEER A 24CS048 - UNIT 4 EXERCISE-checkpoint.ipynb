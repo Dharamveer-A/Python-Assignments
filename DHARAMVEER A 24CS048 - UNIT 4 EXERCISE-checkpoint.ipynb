{
 "cells": [
  {
   "cell_type": "markdown",
   "id": "7cd72173",
   "metadata": {
    "id": "7cd72173"
   },
   "source": [
    "## Exception Handling\n",
    "### Program 1\n",
    "\n",
    "Python Program should get the Name, Age, 6 Subjects marks as an input from the user. Then generate the dictionary as below\n",
    "\n",
    "![image.png](attachment:0bf221ca-a50c-4b40-bd38-efa9649e14e6.png)\n",
    "\n",
    "Before generating a dictionary, you need to check whether the entered age value is positive or not. If it is negative, we **should NOT** add the details to the dictionary.\n",
    "\n",
    "Use User-Defined Exception Handling"
   ]
  },
  {
   "cell_type": "code",
   "execution_count": null,
   "id": "45918645",
   "metadata": {
    "id": "45918645"
   },
   "outputs": [],
   "source": []
  },
  {
   "cell_type": "markdown",
   "id": "1f2672e3",
   "metadata": {
    "id": "1f2672e3"
   },
   "source": [
    "### Program 2\n",
    "\n",
    "Python Program should read the Name, Roll Number and the 6 Subject marks.\n",
    "\n",
    "While entering the marks if we have entering the marks greater than 100 or less than 0 then it should throw an error (**User generated Exception**).\n",
    "\n",
    "For calculating the total,average, minimum and maximum use function\n",
    "\n",
    "![image-3.png](attachment:image-3.png)\n",
    "\n",
    "**Sample Output**\n",
    "\n",
    "![image.png](attachment:image.png)"
   ]
  },
  {
   "cell_type": "code",
   "execution_count": null,
   "id": "96e85a32",
   "metadata": {
    "id": "96e85a32"
   },
   "outputs": [],
   "source": []
  },
  {
   "cell_type": "markdown",
   "id": "163e7555",
   "metadata": {
    "id": "163e7555"
   },
   "source": [
    "Now Handle the above using **Try and Execpt** Block.\n",
    "\n",
    "If all the marks are entered correctly then it should display the Total, Average and his minimum and maximum mark.\n",
    "\n",
    "For calculating the total,average, minimum and maximum use function\n",
    "\n",
    "![image.png](attachment:image.png)\n",
    "\n",
    "#### If the entered mark is invalid then the function should \"0\" if it is valid then function should return total,average,minimum and maximum\n",
    "\n",
    "Use User-Defined Exception\n",
    "\n",
    "In addition to above add one condition when displaying the total,average,minimum and maximum.\n",
    "\n",
    "if he got marks less that 50 then just display \"have failed\", else display the all the detials.\n",
    "\n",
    "Now change the code accordingly and display the output as below\n",
    "\n",
    "#### Sample output 1 - with valid marks\n",
    "\n",
    "![image-2.png](attachment:image-2.png)\n",
    "\n",
    "#### Sample output 1 - with valid marks but he FAILED\n",
    "\n",
    "![image-3.png](attachment:image-3.png)\n",
    "\n",
    "#### Sample output 2 - with invalid marks\n",
    "\n",
    "![image-4.png](attachment:image-4.png)"
   ]
  },
  {
   "cell_type": "code",
   "execution_count": null,
   "id": "5ea85859",
   "metadata": {
    "id": "5ea85859"
   },
   "outputs": [],
   "source": []
  },
  {
   "cell_type": "markdown",
   "id": "82c363e7",
   "metadata": {
    "id": "82c363e7"
   },
   "source": [
    "## FILES\n",
    "\n"
   ]
  },
  {
   "cell_type": "markdown",
   "id": "0cc36dc0",
   "metadata": {
    "id": "0cc36dc0"
   },
   "source": [
    "### PROGRAM 1\n",
    "Write a function in python to count the number of lines from a text file \"proverb.txt\" which is not starting with an alphabet \"D\".\n",
    "\n",
    "**Example:**\n",
    "\n",
    "If the file \"proverb.txt\" contains the following lines:\n",
    "\n",
    "Many hands make light work\n",
    "\n",
    "Honesty is the best policy\n",
    "\n",
    "Don’t bite the hand that feeds you\n",
    "\n",
    "Don’t judge a book by its cover\n",
    "\n",
    "Birds of a feather flock together\n",
    "\n",
    "Diamonds cut diamonds"
   ]
  },
  {
   "cell_type": "code",
   "execution_count": 36,
   "id": "3d576d84",
   "metadata": {
    "id": "3d576d84"
   },
   "outputs": [
    {
     "name": "stdout",
     "output_type": "stream",
     "text": [
      "Number of lines which is not starting with an alphabet \"D\" is 3\n"
     ]
    }
   ],
   "source": [
    "with open(\"proverb.txt\",'r') as file:\n",
    "    c=0\n",
    "    for line in file.readlines():\n",
    "        if line[0]=='D':\n",
    "            continue\n",
    "        c+=1\n",
    "    print('Number of lines which is not starting with an alphabet \"D\" is',c)"
   ]
  },
  {
   "cell_type": "markdown",
   "id": "a2209003",
   "metadata": {
    "id": "a2209003"
   },
   "source": [
    "### Program 2\n",
    "\n",
    "Python Program that display the occurance of a particular character or a string in give input file \"proverb.txt\"\n",
    "\n",
    "If the file **\"proverb.txt\"** contains the following lines:\n",
    "\n",
    "Many hands make light work\n",
    "\n",
    "Honesty is the best policy\n",
    "\n",
    "Don’t bite the hand that feeds you\n",
    "\n",
    "Don’t judge a book by its cover\n",
    "\n",
    "Birds of a feather flock together\n",
    "\n",
    "Diamonds cut diamonds\n",
    "\n",
    "**Sample Output**\n",
    "\n",
    "![image.png](attachment:image.png)"
   ]
  },
  {
   "cell_type": "code",
   "execution_count": 37,
   "id": "b4e94195",
   "metadata": {
    "id": "b4e94195"
   },
   "outputs": [
    {
     "name": "stdin",
     "output_type": "stream",
     "text": [
      "Enter the character or string to count: The\n"
     ]
    },
    {
     "name": "stdout",
     "output_type": "stream",
     "text": [
      "The occurence of \"The\" is 4\n"
     ]
    }
   ],
   "source": [
    "with open(\"proverb.txt\",'r') as file:\n",
    "    s=input(\"Enter the character or string to count:\")\n",
    "    c=file.read().lower().count(s.lower())\n",
    "    print(f'The occurence of \"{s}\" is {c}')\n",
    "    "
   ]
  },
  {
   "cell_type": "markdown",
   "id": "d374c061",
   "metadata": {
    "id": "d374c061"
   },
   "source": [
    "### Program 3\n",
    "\n",
    "Write a python code to append the following proverb to the **\"proverb.txt\"** file.\n",
    "\n",
    "\"Diligence is the mother of good fortune\"\n",
    "\n",
    "##### After updating the file content must be, read the file content and display it.\n",
    "\n",
    "![image.png](attachment:image.png)"
   ]
  },
  {
   "cell_type": "code",
   "execution_count": 38,
   "id": "6ff667be",
   "metadata": {
    "id": "6ff667be"
   },
   "outputs": [
    {
     "name": "stdout",
     "output_type": "stream",
     "text": [
      "Many hands make light work\n",
      "Honesty is the best policy\n",
      "Donâ€™t bite the hand that feeds you\n",
      "Donâ€™t judge a book by its cover\n",
      "Birds of a feather flock together\n",
      "Diamonds cut diamonds\n",
      "Diligence is the mother of good fortune\n"
     ]
    }
   ],
   "source": [
    "with open(\"proverb.txt\",'a+') as file:\n",
    "    file.write(\"\\nDiligence is the mother of good fortune\")\n",
    "    file.seek(0)\n",
    "    print(file.read())"
   ]
  },
  {
   "cell_type": "markdown",
   "id": "a07bf06f",
   "metadata": {
    "id": "a07bf06f"
   },
   "source": [
    "### Program 4\n",
    "\n",
    "Now convert all the character in the file \"proverb.txt\" to uppercase and write to a new file \"u_proverb.txt\" and display the new contents files also\n",
    "\n",
    "![image.png](attachment:image.png)"
   ]
  },
  {
   "cell_type": "code",
   "execution_count": 39,
   "id": "ee5e0648",
   "metadata": {
    "id": "ee5e0648"
   },
   "outputs": [
    {
     "name": "stdout",
     "output_type": "stream",
     "text": [
      "MANY HANDS MAKE LIGHT WORK\n",
      "HONESTY IS THE BEST POLICY\n",
      "DONÂ€™T BITE THE HAND THAT FEEDS YOU\n",
      "DONÂ€™T JUDGE A BOOK BY ITS COVER\n",
      "BIRDS OF A FEATHER FLOCK TOGETHER\n",
      "DIAMONDS CUT DIAMONDS\n",
      "DILIGENCE IS THE MOTHER OF GOOD FORTUNE\n"
     ]
    }
   ],
   "source": [
    "with open(\"proverb.txt\",'r') as file:\n",
    "    with open(\"u_proverb\",'w+') as upr:\n",
    "        for line in file.readlines():\n",
    "            upr.write(line.upper())\n",
    "        upr.seek(0)\n",
    "        print(upr.read())"
   ]
  }
 ],
 "metadata": {
  "colab": {
   "provenance": []
  },
  "kernelspec": {
   "display_name": "Python 3 (ipykernel)",
   "language": "python",
   "name": "python3"
  },
  "language_info": {
   "codemirror_mode": {
    "name": "ipython",
    "version": 3
   },
   "file_extension": ".py",
   "mimetype": "text/x-python",
   "name": "python",
   "nbconvert_exporter": "python",
   "pygments_lexer": "ipython3",
   "version": "3.13.2"
  }
 },
 "nbformat": 4,
 "nbformat_minor": 5
}
