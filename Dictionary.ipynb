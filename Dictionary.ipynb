{
 "cells": [
  {
   "attachments": {},
   "cell_type": "markdown",
   "id": "7f4ca2e8-8bfa-41c4-96f6-0bf20be90be3",
   "metadata": {},
   "source": [
    "#### 1. Create a dictionary\n",
    "quantity = {\"Cosmetics\":30,\"Biscuit\":100,\"Utensils\":45}\n",
    "\n",
    "Sort the dictionary based on keys and values "
   ]
  },
  {
   "cell_type": "code",
   "execution_count": 13,
   "id": "ceb44d1b-0204-44bd-b6d7-28822a2aab0e",
   "metadata": {},
   "outputs": [
    {
     "name": "stdout",
     "output_type": "stream",
     "text": [
      "Dictionary : {'Cosmetics': 30, 'Biscuit': 100, 'Utensils': 45}\n",
      "Sorting based on keys:\n",
      "{'Biscuit': 100, 'Cosmetics': 30, 'Utensils': 45}\n",
      "Sorting based on values:\n",
      "{'Cosmetics': 30, 'Utensils': 45, 'Biscuit': 100}\n"
     ]
    }
   ],
   "source": [
    "quantity = {\"Cosmetics\":30,\"Biscuit\":100,\"Utensils\":45}\n",
    "print(\"Dictionary :\",quantity)\n",
    "print(\"Sorting based on keys:\")\n",
    "print(dict(sorted(quantity.items())))\n",
    "print(\"Sorting based on values:\")\n",
    "print(dict(sorted(quantity.items(),key=lambda x: x[1])))"
   ]
  },
  {
   "cell_type": "markdown",
   "id": "50bda203-ca73-435a-a538-8f100eee70e3",
   "metadata": {},
   "source": [
    "#### 2. Create a dictionary of five countries and their capitals. Write a function that takes a country's name as input and returns its capital."
   ]
  },
  {
   "cell_type": "code",
   "execution_count": 16,
   "id": "ef200106-2f1d-49c1-bfc1-0def1127cc47",
   "metadata": {},
   "outputs": [
    {
     "name": "stdin",
     "output_type": "stream",
     "text": [
      "Enter the country's name: france\n"
     ]
    },
    {
     "name": "stdout",
     "output_type": "stream",
     "text": [
      "The country's capital is Paris\n"
     ]
    }
   ],
   "source": [
    "def give_capital(dict):\n",
    "    name=input(\"Enter the country's name:\")\n",
    "    print(\"The country's capital is \",end=\"\")\n",
    "    return dict[name.title()]\n",
    "dict={\"India\":\"New Delhi\",\"Egypt\": \"Cairo\",\"France\": \"Paris\",\"China\": \"Beijing\",\"Bangladesh\": \"Dhaka\"}\n",
    "print(give_capital(dict))\n"
   ]
  },
  {
   "cell_type": "markdown",
   "id": "3db0b0a2-3eb5-4f4a-b6c9-11ae9b67da53",
   "metadata": {},
   "source": [
    "#### 3. Make a dictionary of student names and their scores. Write a function to find the student with the highest score."
   ]
  },
  {
   "cell_type": "code",
   "execution_count": 20,
   "id": "b0ea1430-8563-457a-b503-202033a09e04",
   "metadata": {},
   "outputs": [],
   "source": [
    "def entry(dict):\n",
    "    for i in range(int(input(\"Enter the number of students:\"))):\n",
    "        name=input(\"Enter student's name :\")\n",
    "        print(\"Enter three subject marks:\")\n",
    "        marks=[int(input()) for i in range(3)]\n",
    "        dict[name]=marks\n",
    "    return dict\n",
    "def topStudent(dict):\n",
    "    score_dict={i:sum(dict[i]) for i in dict}\n",
    "    return dict(sorted(score_dict.items(),key=lambda x:x[1]))\n",
    "dict={}\n",
    "entry(dict)\n",
    "score_dict = topStudent(dict)\n",
    "\n"
   ]
  },
  {
   "cell_type": "markdown",
   "id": "b493f284-cc7f-489a-ac8f-270744c4d1bb",
   "metadata": {},
   "source": [
    "#### 4. Create a nested dictionary of three employees, each with keys for name, age, and salary. Write a function to give each employee a 10% raise and print the updated dictionary."
   ]
  },
  {
   "cell_type": "code",
   "execution_count": null,
   "id": "ead2a821-591f-4d03-9749-7c0a59a7f0a5",
   "metadata": {},
   "outputs": [],
   "source": []
  },
  {
   "cell_type": "markdown",
   "id": "61c9b65a-762a-4834-bd9d-a6c2fb3a1516",
   "metadata": {},
   "source": [
    "#### 5. Create a dictionary to store item names and their quantities. Write a function to add stock to existing items and display the updated inventory."
   ]
  },
  {
   "cell_type": "code",
   "execution_count": null,
   "id": "e7c0a410-e6d1-4c66-ae0f-54a35dd4bc0b",
   "metadata": {},
   "outputs": [],
   "source": []
  },
  {
   "cell_type": "markdown",
   "id": "125b5e96-5835-4963-b8de-45ab2319a1bf",
   "metadata": {},
   "source": [
    "#### 6. Write a program that counts the frequency of each word in a given sentence using a dictionary."
   ]
  },
  {
   "cell_type": "code",
   "execution_count": null,
   "id": "48796107-68a1-4a44-bff8-7ad2e80b49cf",
   "metadata": {},
   "outputs": [],
   "source": []
  },
  {
   "cell_type": "markdown",
   "id": "9b7fc992-c7eb-4caf-be30-4c8b20f8210f",
   "metadata": {},
   "source": [
    "#### 7. Create a dictionary where keys are student names and values are lists of scores. Write a function to compute the average score of a given student and display the name of the student who ranks first based on the average marks."
   ]
  },
  {
   "cell_type": "code",
   "execution_count": null,
   "id": "0be1c14a-39d3-40ce-bb56-fa271567d192",
   "metadata": {},
   "outputs": [],
   "source": []
  },
  {
   "cell_type": "markdown",
   "id": "f3a9b744-3c9a-490c-a258-00c2082f38ad",
   "metadata": {},
   "source": [
    "#### 8. Create a dictionary with book titles as keys and prices as values. Write a program to look up the price of a book entered by the user."
   ]
  },
  {
   "cell_type": "code",
   "execution_count": null,
   "id": "0d0a13d3-cf24-4b14-bf32-39e9291ad20e",
   "metadata": {},
   "outputs": [],
   "source": []
  },
  {
   "cell_type": "markdown",
   "id": "3b641843-2af6-42d9-92f4-0be3345a4a98",
   "metadata": {},
   "source": [
    "#### 9. Write a program to calculate the frequency of each character in a string using a dictionary."
   ]
  },
  {
   "cell_type": "code",
   "execution_count": null,
   "id": "eb72fd03-5757-45c7-be93-d08942be5883",
   "metadata": {},
   "outputs": [],
   "source": []
  },
  {
   "cell_type": "markdown",
   "id": "d543a498-32e0-4249-b98b-77e4631f5949",
   "metadata": {},
   "source": [
    "#### 10. Given two lists, one of keys and one of values, write a program to convert them into a dictionary using the zip() function."
   ]
  },
  {
   "cell_type": "code",
   "execution_count": null,
   "id": "4f005d7c-51a7-4b5b-a57f-0c2c6e527491",
   "metadata": {},
   "outputs": [],
   "source": []
  },
  {
   "cell_type": "markdown",
   "id": "8416dbc2-75f8-47f2-81c3-6a30e52e82f6",
   "metadata": {},
   "source": [
    "#### 11. Create a dictionary with employee IDs and their salaries. Write a function to increase each employee's salary by a given percentage and display the updated dictionary."
   ]
  },
  {
   "cell_type": "code",
   "execution_count": null,
   "id": "49ab9ba7-4feb-4033-bef4-c5546edcecf9",
   "metadata": {},
   "outputs": [],
   "source": []
  },
  {
   "cell_type": "markdown",
   "id": "ca3a6dbd-5652-4893-81fe-919eb3e6bf3c",
   "metadata": {},
   "source": [
    "#### 12. Create a product catalog using a dictionary with item names and prices. Allow the user to add items to a cart and calculate the total bill."
   ]
  },
  {
   "cell_type": "code",
   "execution_count": null,
   "id": "e937351c-bdd4-4546-a5df-9dfe9cdaa192",
   "metadata": {},
   "outputs": [],
   "source": []
  },
  {
   "cell_type": "markdown",
   "id": "1f3fc67f-1e5b-4dc0-8cf5-1e73b3d251e2",
   "metadata": {},
   "source": [
    "#### 13. Create a simple quiz with a dictionary where questions are keys and correct answers are values. Ask users questions and give a score at the end."
   ]
  },
  {
   "cell_type": "code",
   "execution_count": null,
   "id": "9f14586d-3043-4038-9678-651e23db4aba",
   "metadata": {},
   "outputs": [],
   "source": []
  }
 ],
 "metadata": {
  "kernelspec": {
   "display_name": "Python 3 (ipykernel)",
   "language": "python",
   "name": "python3"
  },
  "language_info": {
   "codemirror_mode": {
    "name": "ipython",
    "version": 3
   },
   "file_extension": ".py",
   "mimetype": "text/x-python",
   "name": "python",
   "nbconvert_exporter": "python",
   "pygments_lexer": "ipython3",
   "version": "3.13.2"
  }
 },
 "nbformat": 4,
 "nbformat_minor": 5
}
