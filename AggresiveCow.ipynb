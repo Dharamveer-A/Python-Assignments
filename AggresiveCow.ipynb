{
 "cells": [
  {
   "cell_type": "code",
   "execution_count": 2,
   "id": "704bdafc",
   "metadata": {},
   "outputs": [],
   "source": [
    "def isPossible(arr,m,mid):\n",
    "  cow = 1\n",
    "  arr.sort()\n",
    "  lastPosition = 0\n",
    "  for i in range(1,len(arr)):\n",
    "    if arr[i] - arr[lastPosition] >= mid :\n",
    "      cow += 1\n",
    "      lastPosition = i\n",
    "      if m == cow:\n",
    "        return True\n",
    "  return False\n"
   ]
  },
  {
   "cell_type": "code",
   "execution_count": 12,
   "id": "e3f95d55",
   "metadata": {},
   "outputs": [],
   "source": [
    "def aggresiveCow(arr,m):\n",
    "  st = min(arr)\n",
    "  end = max(arr) - st\n",
    "  while(st <= end):\n",
    "    mid = st + (end-st)//2\n",
    "    if isPossible(arr,m,mid):\n",
    "      st = mid + 1\n",
    "    else:\n",
    "      end = mid - 1\n",
    "  return end\n"
   ]
  },
  {
   "cell_type": "code",
   "execution_count": 32,
   "id": "b620adf3",
   "metadata": {},
   "outputs": [
    {
     "name": "stdout",
     "output_type": "stream",
     "text": [
      "4\n"
     ]
    }
   ],
   "source": [
    "arr = [5,19,15,11,2,7,17,9]\n",
    "m = 4\n",
    "\n",
    "print(aggresiveCow(arr,m))"
   ]
  }
 ],
 "metadata": {
  "kernelspec": {
   "display_name": "Python 3",
   "language": "python",
   "name": "python3"
  },
  "language_info": {
   "codemirror_mode": {
    "name": "ipython",
    "version": 3
   },
   "file_extension": ".py",
   "mimetype": "text/x-python",
   "name": "python",
   "nbconvert_exporter": "python",
   "pygments_lexer": "ipython3",
   "version": "3.13.2"
  }
 },
 "nbformat": 4,
 "nbformat_minor": 5
}
