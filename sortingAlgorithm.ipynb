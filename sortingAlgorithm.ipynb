{
 "cells": [
  {
   "cell_type": "markdown",
   "id": "4d018ad4",
   "metadata": {},
   "source": [
    "# Bubble sort"
   ]
  },
  {
   "cell_type": "code",
   "execution_count": 24,
   "id": "789ccd84",
   "metadata": {},
   "outputs": [],
   "source": [
    "def BubbleSort(array):\n",
    "  for i in range(len(array)-1):\n",
    "    for j in range(len(array)-i-1):\n",
    "      if array[j] > array[j+1]:\n",
    "        temp = array[j]\n",
    "        array[j] = array[j+1]\n",
    "        array[j+1] = temp\n",
    "  return array "
   ]
  },
  {
   "cell_type": "code",
   "execution_count": 25,
   "id": "95a004a8",
   "metadata": {},
   "outputs": [
    {
     "name": "stdout",
     "output_type": "stream",
     "text": [
      "[1, 2, 3, 4, 5]\n"
     ]
    }
   ],
   "source": [
    "print(BubbleSort([5,4,3,2,1]))"
   ]
  },
  {
   "cell_type": "markdown",
   "id": "b84ca801",
   "metadata": {},
   "source": [
    "# Selection sort"
   ]
  },
  {
   "cell_type": "code",
   "execution_count": 30,
   "id": "9e60f48e",
   "metadata": {},
   "outputs": [],
   "source": [
    "def SelectionSort(array):\n",
    "  for i in range(len(array)-1):\n",
    "    smallest = i\n",
    "    for j in range(i+1,len(array)):\n",
    "      if array[j] < array[smallest]:\n",
    "        smallest = j\n",
    "    temp = array[smallest]\n",
    "    array[smallest] = array[i]\n",
    "    array[i] = temp\n",
    "  return array"
   ]
  },
  {
   "cell_type": "code",
   "execution_count": 31,
   "id": "ad2f3a2b",
   "metadata": {},
   "outputs": [
    {
     "name": "stdout",
     "output_type": "stream",
     "text": [
      "[1, 2, 3, 4, 5]\n"
     ]
    }
   ],
   "source": [
    "print(SelectionSort([5,4,3,2,1]))"
   ]
  }
 ],
 "metadata": {
  "kernelspec": {
   "display_name": "Python 3",
   "language": "python",
   "name": "python3"
  },
  "language_info": {
   "codemirror_mode": {
    "name": "ipython",
    "version": 3
   },
   "file_extension": ".py",
   "mimetype": "text/x-python",
   "name": "python",
   "nbconvert_exporter": "python",
   "pygments_lexer": "ipython3",
   "version": "3.13.2"
  }
 },
 "nbformat": 4,
 "nbformat_minor": 5
}
