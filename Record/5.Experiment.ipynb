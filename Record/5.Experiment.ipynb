{
 "cells": [
  {
   "cell_type": "markdown",
   "metadata": {},
   "source": [
    "1.Username Validator  You're developing a login system. A username must only contain alphabets and numbers, and should not exceed 12 characters.\n",
    "Write a function that checks whether a given username is valid or not. Return True if it's valid, otherwise False"
   ]
  },
  {
   "cell_type": "code",
   "execution_count": 4,
   "metadata": {},
   "outputs": [
    {
     "name": "stdout",
     "output_type": "stream",
     "text": [
      "False\n"
     ]
    }
   ],
   "source": [
    "def is_valid(usrname):\n",
    "    if len(usrname)>12:\n",
    "        return False\n",
    "    for i in usrname:\n",
    "        if i.isalnum() and i!=\" \":\n",
    "            continue\n",
    "        else:\n",
    "            return False\n",
    "    return True\n",
    "usrname=input(\"Enter the username :\")\n",
    "print(is_valid(usrname))"
   ]
  },
  {
   "cell_type": "markdown",
   "metadata": {},
   "source": [
    "2.Email Masking for Privacy . You need to mask part of an email address when displaying it publicly to protect user privacy.\n",
    "Write a program that takes an email like john.doe@example.com and returns a masked version like jo****@example.com.\n"
   ]
  },
  {
   "cell_type": "code",
   "execution_count": 6,
   "metadata": {},
   "outputs": [
    {
     "name": "stdout",
     "output_type": "stream",
     "text": [
      "he********@gmail.com\n"
     ]
    }
   ],
   "source": [
    "def mask(email):\n",
    "    l=len(email[2:email.index('@')])\n",
    "    masked=email[:2]+(\"*\"*l)+email[email.index('@'):]\n",
    "    return masked\n",
    "email=input(\"Enter your email'id :\")\n",
    "print(mask(email))  \n"
   ]
  },
  {
   "cell_type": "markdown",
   "metadata": {},
   "source": [
    "3.Detecting Palindromes  You are building a text analyzer app. One of the features is to detect if a word or phrase is a palindrome (ignoring spaces and punctuation).\n",
    "Write a function that checks whether a given string is a palindrome, ignoring case, spaces, and punctuation.\n"
   ]
  },
  {
   "cell_type": "code",
   "execution_count": null,
   "metadata": {},
   "outputs": [],
   "source": []
  }
 ],
 "metadata": {
  "kernelspec": {
   "display_name": "Python 3",
   "language": "python",
   "name": "python3"
  },
  "language_info": {
   "codemirror_mode": {
    "name": "ipython",
    "version": 3
   },
   "file_extension": ".py",
   "mimetype": "text/x-python",
   "name": "python",
   "nbconvert_exporter": "python",
   "pygments_lexer": "ipython3",
   "version": "3.11.3"
  },
  "orig_nbformat": 4
 },
 "nbformat": 4,
 "nbformat_minor": 2
}
