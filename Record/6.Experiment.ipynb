{
 "cells": [
  {
   "cell_type": "markdown",
   "id": "754a6433",
   "metadata": {},
   "source": [
    "1.Write a program to create a list and perform the following operations: append, insert, delete, and update an element.\n"
   ]
  },
  {
   "cell_type": "code",
   "execution_count": 3,
   "id": "26557b69",
   "metadata": {},
   "outputs": [
    {
     "name": "stdout",
     "output_type": "stream",
     "text": [
      "After creating list : []\n",
      "After appending elements : [5, 6]\n",
      "After inserting elements : [4, 5, 6]\n",
      "After deleting elements : [4, 6]\n",
      "After updating elements : [3, 6]\n"
     ]
    }
   ],
   "source": [
    "lst=list()\n",
    "print(\"After creating list :\",lst)\n",
    "lst.append(5)\n",
    "lst.append(6)\n",
    "print(\"After appending elements :\",lst)\n",
    "lst.insert(0,4)\n",
    "print(\"After inserting elements :\",lst)\n",
    "del lst[1]\n",
    "print(\"After deleting elements :\",lst)\n",
    "lst[0]=3\n",
    "print(\"After updating elements :\",lst)"
   ]
  },
  {
   "cell_type": "markdown",
   "id": "66cfdac1",
   "metadata": {},
   "source": [
    "2.Write a program to create a list of integers and print the largest, smallest, and average of the list elements."
   ]
  },
  {
   "cell_type": "code",
   "execution_count": 6,
   "id": "6ea310e7",
   "metadata": {},
   "outputs": [
    {
     "name": "stdout",
     "output_type": "stream",
     "text": [
      "List : [1, 6, 8, 9]\n",
      "Smallest element : 1\n",
      "Largest element : 9\n",
      "Average : 6.0\n"
     ]
    }
   ],
   "source": [
    "lst=[1,6,8,9]\n",
    "print(\"List :\",lst)\n",
    "print(\"Smallest element :\",min(lst))\n",
    "print(\"Largest element :\",max(lst))\n",
    "print(\"Average :\",sum(lst)/len(lst))"
   ]
  },
  {
   "cell_type": "markdown",
   "id": "cfbbd996",
   "metadata": {},
   "source": [
    "3.Write a program to generate a list of squares of the first 10 natural numbers using list comprehension."
   ]
  },
  {
   "cell_type": "code",
   "execution_count": 8,
   "id": "ce5747d6",
   "metadata": {},
   "outputs": [
    {
     "name": "stdout",
     "output_type": "stream",
     "text": [
      "List of square elements : [1, 4, 9, 16, 25, 36, 49, 64, 81, 100]\n"
     ]
    }
   ],
   "source": [
    "lst=[i**2 for i in range(1,11)]\n",
    "print(\"List of square elements :\",lst)"
   ]
  },
  {
   "cell_type": "markdown",
   "id": "5cb4e7b8",
   "metadata": {},
   "source": [
    "4.Write a program to create a list of student names and sort them in ascending and descending order."
   ]
  },
  {
   "cell_type": "code",
   "execution_count": 1,
   "id": "e3ae1d68",
   "metadata": {},
   "outputs": [
    {
     "name": "stdout",
     "output_type": "stream",
     "text": [
      "Student list : ['deva', 'elan', 'abdul', 'aathi', 'ram']\n",
      "Student list in ascending order : ['aathi', 'abdul', 'deva', 'elan', 'ram']\n",
      "Student list in descending order : ['ram', 'elan', 'deva', 'abdul', 'aathi']\n"
     ]
    }
   ],
   "source": [
    "stud_lst=[]\n",
    "for i in range(int(input(\"Enter the number for students :\"))):\n",
    "    stud_lst.append(input(\"Enter the name :\"))\n",
    "print(\"Student list :\",stud_lst)\n",
    "ass=sorted(stud_lst)\n",
    "print(\"Student list in ascending order :\",ass)\n",
    "des=sorted(stud_lst,reverse=True)\n",
    "print(\"Student list in descending order :\",des)"
   ]
  },
  {
   "cell_type": "markdown",
   "id": "270c92d2",
   "metadata": {},
   "source": [
    "5.Write a program to perform linear search and binary search on a list of numbers"
   ]
  },
  {
   "cell_type": "code",
   "execution_count": null,
   "id": "955dfa15",
   "metadata": {},
   "outputs": [
    {
     "name": "stdout",
     "output_type": "stream",
     "text": [
      "Linear search :\n",
      "Element is found at  2\n",
      "Binary search :\n",
      "The element is found at 2\n"
     ]
    }
   ],
   "source": [
    "lst=[]\n",
    "for i in range(int(input(\"Enter the number of elements :\"))):\n",
    "    lst.append(int(input(\"Enter the list element :\")))\n",
    "target=int(input(\"Enter the target element :\"))\n",
    "print(\"List :\",lst)\n",
    "print(\"Linear search :\")\n",
    "for i in range(len(lst)):\n",
    "    if lst[i]==target:\n",
    "        print(\"Element is found at \",i)\n",
    "        break\n",
    "else:\n",
    "    print(\"Element is not found.\")\n",
    "print(\"Binary search :\")\n",
    "low=0\n",
    "high=len(lst)-1\n",
    "while low<=high:\n",
    "    mid=(low+high)//2\n",
    "    if lst[mid]==target:\n",
    "        print(\"The element is found at\",mid)\n",
    "        break\n",
    "    elif lst[mid]<target:\n",
    "        low=mid+1\n",
    "    else:\n",
    "        high=mid-1\n",
    "else:\n",
    "    print(\"Element is not found.\")"
   ]
  },
  {
   "cell_type": "markdown",
   "id": "be9a4671",
   "metadata": {},
   "source": [
    "6.Given a list of numbers, create a new list containing the squares of only the odd numbers from the original list. (Use List comprehension)\t"
   ]
  },
  {
   "cell_type": "code",
   "execution_count": 6,
   "id": "99c3ad7c",
   "metadata": {},
   "outputs": [
    {
     "name": "stdout",
     "output_type": "stream",
     "text": [
      "Given list : [1, 2, 3, 4, 5]\n",
      "Odd square list : [1, 9, 25]\n"
     ]
    }
   ],
   "source": [
    "lst=[]\n",
    "for i in range(int(input(\"Enter the number of elements :\"))):\n",
    "    lst.append(int(input(\"Enter the list element :\")))\n",
    "print(\"Given list :\",lst)\n",
    "odd_lst=[i**2 for i in lst if i%2==1]\n",
    "print(\"Odd square list :\",odd_lst)"
   ]
  },
  {
   "cell_type": "markdown",
   "id": "aba2de7c",
   "metadata": {},
   "source": [
    "7.Write a program to swap two values using tuple unpacking."
   ]
  },
  {
   "cell_type": "code",
   "execution_count": 8,
   "id": "97b6dd92",
   "metadata": {},
   "outputs": [
    {
     "name": "stdout",
     "output_type": "stream",
     "text": [
      "Before swaping :\n",
      "a=3\n",
      "b=5\n",
      "After swaping :\n",
      "a=5\n",
      "b=3\n"
     ]
    }
   ],
   "source": [
    "a=int(input(\"Enter the first number :\"))\n",
    "b=int(input(\"Enter the second number :\"))\n",
    "t=(a,b)\n",
    "print(\"Before swaping :\\na={}\\nb={}\".format(a,b))\n",
    "b,a=t\n",
    "print(\"After swaping :\\na={}\\nb={}\".format(a,b))\n"
   ]
  },
  {
   "cell_type": "markdown",
   "id": "25f3c847",
   "metadata": {},
   "source": [
    "8.Write a program to create a list of tuples containing student names and their marks, and print the names of students who scored more than 90.\n"
   ]
  },
  {
   "cell_type": "code",
   "execution_count": null,
   "id": "5b5ce933",
   "metadata": {},
   "outputs": [
    {
     "name": "stdout",
     "output_type": "stream",
     "text": [
      "List with marks : [('deva', 60), ('elan', 93), ('sive', 92)]\n",
      "elan\n",
      "sive\n"
     ]
    }
   ],
   "source": [
    "lst=[]\n",
    "for i in range(int(input(\"Enter the number students :\"))):\n",
    "    lst.append((input(\"Enter the student name :\"),int(input(\"Enter the mark :\"))))\n",
    "print(\"List with marks :\",lst)\n",
    "print(\"students who got more them=n 90 :\")\n",
    "for i in lst:\n",
    "    if i[1]>=90:\n",
    "        print(i[0])\n",
    "\n",
    "\n"
   ]
  },
  {
   "cell_type": "markdown",
   "id": "27d68c57",
   "metadata": {},
   "source": [
    "9.A sensor returns a list of readings. Negative readings are invalid and should be replaced by zero and Use list comprehension to replace all negative numbers in a list with 0."
   ]
  },
  {
   "cell_type": "code",
   "execution_count": 13,
   "id": "b5b21fd3",
   "metadata": {},
   "outputs": [
    {
     "name": "stdout",
     "output_type": "stream",
     "text": [
      "Before replacing with 0 : [2, -1, 2, -5, 4]\n",
      "After replacing with 0 : [2, 0, 2, 0, 4]\n"
     ]
    }
   ],
   "source": [
    "lst=[]\n",
    "for i in range(int(input(\"Enter the number of readings :\"))):\n",
    "    lst.append(int(input(\"Enter the reading :\")))\n",
    "print(\"Before replacing with 0 :\",lst)\n",
    "lst=[0 if i<0 else i for i in lst]\n",
    "print(\"After replacing with 0 :\",lst)"
   ]
  },
  {
   "cell_type": "markdown",
   "id": "4e0ab448",
   "metadata": {},
   "source": [
    "10.Create a system to process customer orders. Each order can contain multiple items (represented as strings). The system should allow adding items to an order, removing items, displaying the current order, and calculating the total number of items in the order. You could extend this by associating quantities with each item (e.g., a list of tuples: [(\"Laptop\", 1), (\"Mouse\", 2)])."
   ]
  },
  {
   "cell_type": "code",
   "execution_count": 37,
   "id": "05561845",
   "metadata": {},
   "outputs": [
    {
     "name": "stdout",
     "output_type": "stream",
     "text": [
      "Product added successfully\n",
      "Product added successfully\n"
     ]
    },
    {
     "ename": "ValueError",
     "evalue": "invalid literal for int() with base 10: 'keyboard'",
     "output_type": "error",
     "traceback": [
      "\u001b[1;31m---------------------------------------------------------------------------\u001b[0m",
      "\u001b[1;31mValueError\u001b[0m                                Traceback (most recent call last)",
      "Cell \u001b[1;32mIn[37], line 6\u001b[0m\n\u001b[0;32m      3\u001b[0m total_items \u001b[38;5;241m=\u001b[39m \u001b[38;5;241m0\u001b[39m\n\u001b[0;32m      5\u001b[0m \u001b[38;5;28;01mwhile\u001b[39;00m \u001b[38;5;28;01mTrue\u001b[39;00m:\n\u001b[1;32m----> 6\u001b[0m     ch \u001b[38;5;241m=\u001b[39m \u001b[38;5;28;43mint\u001b[39;49m\u001b[43m(\u001b[49m\u001b[38;5;28;43minput\u001b[39;49m\u001b[43m(\u001b[49m\u001b[38;5;124;43m\"\u001b[39;49m\u001b[38;5;124;43m1. Add product\u001b[39;49m\u001b[38;5;130;43;01m\\n\u001b[39;49;00m\u001b[38;5;124;43m2. Remove product\u001b[39;49m\u001b[38;5;130;43;01m\\n\u001b[39;49;00m\u001b[38;5;124;43m3. Display product\u001b[39;49m\u001b[38;5;130;43;01m\\n\u001b[39;49;00m\u001b[38;5;124;43m4. Add product to order\u001b[39;49m\u001b[38;5;130;43;01m\\n\u001b[39;49;00m\u001b[38;5;124;43m5. Exit\u001b[39;49m\u001b[38;5;130;43;01m\\n\u001b[39;49;00m\u001b[38;5;124;43mEnter choice: \u001b[39;49m\u001b[38;5;124;43m\"\u001b[39;49m\u001b[43m)\u001b[49m\u001b[43m)\u001b[49m\n\u001b[0;32m      8\u001b[0m     \u001b[38;5;28;01mif\u001b[39;00m ch \u001b[38;5;241m==\u001b[39m \u001b[38;5;241m1\u001b[39m:\n\u001b[0;32m      9\u001b[0m         products\u001b[38;5;241m.\u001b[39mappend((\u001b[38;5;28minput\u001b[39m(\u001b[38;5;124m\"\u001b[39m\u001b[38;5;124mEnter the product name: \u001b[39m\u001b[38;5;124m\"\u001b[39m), \u001b[38;5;28mint\u001b[39m(\u001b[38;5;28minput\u001b[39m(\u001b[38;5;124m\"\u001b[39m\u001b[38;5;124mEnter Number of items: \u001b[39m\u001b[38;5;124m\"\u001b[39m))))\n",
      "\u001b[1;31mValueError\u001b[0m: invalid literal for int() with base 10: 'keyboard'"
     ]
    }
   ],
   "source": [
    "products = []\n",
    "order = []\n",
    "total_items = 0\n",
    "\n",
    "while True:\n",
    "    ch = int(input(\"1. Add product\\n2. Remove product\\n3. Display product\\n4. Add product to order\\n5. Exit\\nEnter choice: \"))\n",
    "    \n",
    "    if ch == 1:\n",
    "        products.append((input(\"Enter the product name: \"), int(input(\"Enter Number of items: \"))))\n",
    "        print(\"Product added successfully\")\n",
    "\n",
    "    elif ch == 2:\n",
    "        remove = input(\"Enter the product to remove: \")\n",
    "        for i in products:\n",
    "            if i[0].lower() == remove.lower():\n",
    "                products.remove(i)\n",
    "                print(\"Product removed successfully\")\n",
    "                break\n",
    "        else:\n",
    "            print(\"Product not found\")\n",
    "\n",
    "    elif ch == 3:\n",
    "        print(\"Name\\tNo. of items:\")\n",
    "        for i in products:\n",
    "            print(i[0], i[1], sep=':')\n",
    "\n",
    "    elif ch == 4:\n",
    "        while True:\n",
    "            ch_item = input(\"Enter the name of item to add (0 to show added items): \")\n",
    "            if ch_item == '0':\n",
    "                if len(order) == 0:\n",
    "                    print(\"No items are added\")\n",
    "                else:\n",
    "                    print(\"Name\\tNo. of items:\")\n",
    "                    for i in order:\n",
    "                        print(i[0], i[1], sep=':')\n",
    "                        total_items += i[1]\n",
    "                    print(\"Total items added:\", total_items)\n",
    "                break\n",
    "\n",
    "            found = False\n",
    "            for j in range(len(products)):\n",
    "                if products[j][0].lower() == ch_item.lower():\n",
    "                    no_items = int(input(\"Enter the number of items to add: \"))\n",
    "                    if no_items <= products[j][1]:\n",
    "                        updated_count = products[j][1] - no_items\n",
    "                        products[j] = (products[j][0], updated_count)\n",
    "                        order.append((products[j][0], no_items))\n",
    "                        print(\"Item added to order\")\n",
    "                    else:\n",
    "                        print(\"Not enough items available\")\n",
    "                    found = True\n",
    "                    break\n",
    "            if not found:\n",
    "                print(\"Product not found\")\n",
    "\n",
    "    elif ch == 5:\n",
    "        print(\"Thanks for coming.\")\n",
    "        break\n",
    "    else:\n",
    "        print(\"Invalid choice.\")\n"
   ]
  },
  {
   "cell_type": "markdown",
   "id": "68cab836",
   "metadata": {},
   "source": [
    "11.Given a list of numbers and a target sum, find all unique pairs of numbers in the list that add up to the target sum.\n"
   ]
  },
  {
   "cell_type": "code",
   "execution_count": null,
   "id": "e438d80a",
   "metadata": {},
   "outputs": [
    {
     "name": "stdout",
     "output_type": "stream",
     "text": [
      "[(1, 2), (-1, 4)]\n"
     ]
    }
   ],
   "source": [
    "def find_pairs(nums, target):\n",
    "    seen = set()\n",
    "    pairs = set()\n",
    "    for num in nums:\n",
    "        complement = target - num\n",
    "        if complement in seen:\n",
    "            pairs.add(tuple(sorted((num, complement))))\n",
    "        seen.add(num)\n",
    "    return list(pairs)\n",
    "nums=[]\n",
    "for i in range(int(input(\"Enter the no of elements:\"))):\n",
    "    nums.append(int(input(\"Enter the number\")))\n",
    "target=int(input(\"Enter the Target number\"))\n",
    "print(\"Unique pairs are \",find_pairs(nums, target))\n"
   ]
  },
  {
   "cell_type": "markdown",
   "id": "d0927fa8",
   "metadata": {},
   "source": [
    "12.Implement a function that performs Run-Length Encoding on a list of characters. RLE compresses data by replacing consecutive identical characters with the character and its count. For example, [\"a\", \"a\", \"a\", \"b\", \"b\", \"c\"] would be encoded as [(\"a\", 3), (\"b\", 2), (\"c\", 1)]. "
   ]
  },
  {
   "cell_type": "code",
   "execution_count": 35,
   "id": "80c1e3b2",
   "metadata": {},
   "outputs": [
    {
     "name": "stdout",
     "output_type": "stream",
     "text": [
      "Before encoding : ['a', 'a', 'a', 'b', 'b', 'c']\n",
      "After encoding : [('a', 3), ('b', 2), ('c', 1)]\n"
     ]
    }
   ],
   "source": [
    "lst=[]\n",
    "for i in range(int(input(\"Enter the number of inputs :\"))):\n",
    "    lst.append(input(\"Enter the character :\"))\n",
    "print(\"Before encoding :\",lst)\n",
    "encod_lst=[]\n",
    "current=lst[0]\n",
    "c=1\n",
    "for i in range(1,len(lst)):\n",
    "    if lst[i]==current:\n",
    "        c+=1\n",
    "    else:\n",
    "        encod_lst.append((current,c))\n",
    "        c=1\n",
    "        current=lst[i]\n",
    "encod_lst.append((current,c))\n",
    "print(\"After encoding :\",encod_lst)"
   ]
  },
  {
   "cell_type": "markdown",
   "id": "4e82242e",
   "metadata": {},
   "source": [
    "13.Scenario:\n",
    "Given a matrix and need to transpose it and  Use nested list comprehension to transpose a matrix.\n",
    "Input:\n",
    "matrix = [\n",
    " [1, 2, 3],\n",
    " [4, 5, 6]\t\n",
    "]\n",
    "Output:\n",
    "[\n",
    "[1, 4],\n",
    "[2, 5],\n",
    "[3, 6]\n",
    "]\n"
   ]
  },
  {
   "cell_type": "code",
   "execution_count": null,
   "id": "ede42918",
   "metadata": {},
   "outputs": [
    {
     "name": "stdout",
     "output_type": "stream",
     "text": [
      "Enter the 1,1 element\n",
      "Enter the 1,2 element\n",
      "Enter the 1,3 element\n",
      "Enter the 2,1 element\n",
      "Enter the 2,2 element\n",
      "Enter the 2,3 element\n",
      "Given matrix\n",
      "1 2 3 \n",
      "4 5 6 \n",
      "Transpose Matrix\n",
      "1 4 \n",
      "2 5 \n",
      "3 6 \n"
     ]
    }
   ],
   "source": [
    "matrix=[]\n",
    "r=int(input(\"Enter the no of rows\"))\n",
    "c=int(input(\"Enter the no of coloums\"))\n",
    "for i in range(r):\n",
    "    row=[]\n",
    "    for j in range(c):\n",
    "        print(\"Enter the {},{} element :\".format(i+1,j+1))\n",
    "        row.append(int(input()))\n",
    "    matrix.insert(i,row)\n",
    "print(\"Given matrix\")\n",
    "for i in range(r):\n",
    "    for j in range(c):\n",
    "        print(matrix[i][j],end=\" \")\n",
    "    print()\n",
    "print(\"Transpose Matrix\")\n",
    "for i in range(c):\n",
    "    for j in range(r):\n",
    "        print(matrix[j][i],end=\" \")\n",
    "    print()"
   ]
  },
  {
   "cell_type": "markdown",
   "id": "b4462ca7",
   "metadata": {},
   "source": [
    "14.Given a list of strings, extract digits from each string and store them in a new list.\n",
    " \t Input: [\"abc123\", \"hello99\"] → Output: [\"123\", \"99\"]"
   ]
  },
  {
   "cell_type": "code",
   "execution_count": 20,
   "id": "66415dd0",
   "metadata": {},
   "outputs": [
    {
     "name": "stdout",
     "output_type": "stream",
     "text": [
      "Given list is  ['abc123', 'hello99']\n",
      "After modification : ['123', '99']\n"
     ]
    }
   ],
   "source": [
    "lst=[]\n",
    "for i in range(int(input(\"Enter the no of elements :\"))):\n",
    "    lst.append(input(\"Entet the element :\"))\n",
    "print(\"Given list is \",lst)\n",
    "mod_lst=[]\n",
    "for i in lst:\n",
    "    str=\"\"\n",
    "    for j in i:\n",
    "        if j.isdigit():\n",
    "            str+=j\n",
    "    mod_lst.append(str)\n",
    "print(\"After modification :\",mod_lst)"
   ]
  },
  {
   "cell_type": "markdown",
   "id": "d0a17f01",
   "metadata": {},
   "source": []
  }
 ],
 "metadata": {
  "kernelspec": {
   "display_name": "Python 3",
   "language": "python",
   "name": "python3"
  },
  "language_info": {
   "codemirror_mode": {
    "name": "ipython",
    "version": 3
   },
   "file_extension": ".py",
   "mimetype": "text/x-python",
   "name": "python",
   "nbconvert_exporter": "python",
   "pygments_lexer": "ipython3",
   "version": "3.9.12"
  }
 },
 "nbformat": 4,
 "nbformat_minor": 5
}
